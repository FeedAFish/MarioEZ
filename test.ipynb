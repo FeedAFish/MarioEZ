{
 "cells": [
  {
   "cell_type": "code",
   "execution_count": 11,
   "metadata": {},
   "outputs": [
    {
     "data": {
      "text/plain": [
       "(5, 0)"
      ]
     },
     "execution_count": 11,
     "metadata": {},
     "output_type": "execute_result"
    }
   ],
   "source": [
    "import Data.dataloader\n",
    "import ObstacleClass\n",
    "import pygame\n",
    "\n",
    "pygame.init()"
   ]
  },
  {
   "cell_type": "code",
   "execution_count": 12,
   "metadata": {},
   "outputs": [
    {
     "ename": "error",
     "evalue": "No video mode has been set",
     "output_type": "error",
     "traceback": [
      "\u001b[0;31m---------------------------------------------------------------------------\u001b[0m",
      "\u001b[0;31merror\u001b[0m                                     Traceback (most recent call last)",
      "\u001b[1;32m/Users/fishies/Github/MarioEZ/test.ipynb Cell 2\u001b[0m in \u001b[0;36m<cell line: 4>\u001b[0;34m()\u001b[0m\n\u001b[1;32m      <a href='vscode-notebook-cell:/Users/fishies/Github/MarioEZ/test.ipynb#W4sZmlsZQ%3D%3D?line=1'>2</a>\u001b[0m gr \u001b[39m=\u001b[39m pygame\u001b[39m.\u001b[39msprite\u001b[39m.\u001b[39mGroup()\n\u001b[1;32m      <a href='vscode-notebook-cell:/Users/fishies/Github/MarioEZ/test.ipynb#W4sZmlsZQ%3D%3D?line=3'>4</a>\u001b[0m \u001b[39mfor\u001b[39;00m i \u001b[39min\u001b[39;00m \u001b[39mrange\u001b[39m(\u001b[39mlen\u001b[39m(a\u001b[39m.\u001b[39mdata[\u001b[39m\"\u001b[39m\u001b[39mPipeposx\u001b[39m\u001b[39m\"\u001b[39m])):\n\u001b[0;32m----> <a href='vscode-notebook-cell:/Users/fishies/Github/MarioEZ/test.ipynb#W4sZmlsZQ%3D%3D?line=4'>5</a>\u001b[0m     a \u001b[39m=\u001b[39m ObstacleClass\u001b[39m.\u001b[39;49mBarrel(pos \u001b[39m=\u001b[39;49m (a\u001b[39m.\u001b[39;49mdata[\u001b[39m\"\u001b[39;49m\u001b[39mPipeposx\u001b[39;49m\u001b[39m\"\u001b[39;49m][i],a\u001b[39m.\u001b[39;49mdata[\u001b[39m\"\u001b[39;49m\u001b[39mPipeposy\u001b[39;49m\u001b[39m\"\u001b[39;49m][i]), height\u001b[39m=\u001b[39;49m \u001b[39m120\u001b[39;49m)\n\u001b[1;32m      <a href='vscode-notebook-cell:/Users/fishies/Github/MarioEZ/test.ipynb#W4sZmlsZQ%3D%3D?line=5'>6</a>\u001b[0m     gr\u001b[39m.\u001b[39madd(a)\n",
      "File \u001b[0;32m~/Github/MarioEZ/ObstacleClass.py:25\u001b[0m, in \u001b[0;36mBarrel.__init__\u001b[0;34m(self, pos, height)\u001b[0m\n\u001b[1;32m     24\u001b[0m \u001b[39mdef\u001b[39;00m \u001b[39m__init__\u001b[39m(\u001b[39mself\u001b[39m, pos, height):\n\u001b[0;32m---> 25\u001b[0m     \u001b[39msuper\u001b[39m()\u001b[39m.\u001b[39m\u001b[39m__init__\u001b[39m(pos, image\u001b[39m=\u001b[39mImageLoader\u001b[39m.\u001b[39;49mBarrel(height))\n\u001b[1;32m     26\u001b[0m     \u001b[39mself\u001b[39m\u001b[39m.\u001b[39mimage\u001b[39m.\u001b[39mblit(ImageLoader\u001b[39m.\u001b[39mheadbarrel, (\u001b[39m0\u001b[39m, \u001b[39m0\u001b[39m))\n",
      "File \u001b[0;32m~/Github/MarioEZ/ImageLoader.py:32\u001b[0m, in \u001b[0;36mBarrel\u001b[0;34m(height)\u001b[0m\n\u001b[1;32m     29\u001b[0m \u001b[39mdef\u001b[39;00m \u001b[39mBarrel\u001b[39m(height):\n\u001b[1;32m     30\u001b[0m     \u001b[39mreturn\u001b[39;00m pygame\u001b[39m.\u001b[39mtransform\u001b[39m.\u001b[39mscale(\n\u001b[1;32m     31\u001b[0m         pygame\u001b[39m.\u001b[39;49mimage\u001b[39m.\u001b[39;49mload(os\u001b[39m.\u001b[39;49mpath\u001b[39m.\u001b[39;49mjoin(\n\u001b[0;32m---> 32\u001b[0m             linkp, \u001b[39m\"\u001b[39;49m\u001b[39mImage\u001b[39;49m\u001b[39m\"\u001b[39;49m, \u001b[39m\"\u001b[39;49m\u001b[39mpipe.png\u001b[39;49m\u001b[39m\"\u001b[39;49m))\u001b[39m.\u001b[39;49mconvert_alpha(),\n\u001b[1;32m     33\u001b[0m         (\u001b[39m80\u001b[39m, \u001b[39mint\u001b[39m(height)))\n",
      "\u001b[0;31merror\u001b[0m: No video mode has been set"
     ]
    }
   ],
   "source": [
    "a = Data.dataloader.level(1)\n",
    "gr = pygame.sprite.Group()\n",
    "\n",
    "for i in range(len(a.data[\"Pipeposx\"])):\n",
    "    a = ObstacleClass.Barrel(pos = (a.data[\"Pipeposx\"][i],a.data[\"Pipeposy\"][i]), height= 120)\n",
    "    gr.add(a)"
   ]
  },
  {
   "cell_type": "code",
   "execution_count": null,
   "metadata": {},
   "outputs": [],
   "source": []
  }
 ],
 "metadata": {
  "kernelspec": {
   "display_name": "Python 3.10.5 64-bit",
   "language": "python",
   "name": "python3"
  },
  "language_info": {
   "codemirror_mode": {
    "name": "ipython",
    "version": 3
   },
   "file_extension": ".py",
   "mimetype": "text/x-python",
   "name": "python",
   "nbconvert_exporter": "python",
   "pygments_lexer": "ipython3",
   "version": "3.10.5"
  },
  "orig_nbformat": 4,
  "vscode": {
   "interpreter": {
    "hash": "aee8b7b246df8f9039afb4144a1f6fd8d2ca17a180786b69acc140d282b71a49"
   }
  }
 },
 "nbformat": 4,
 "nbformat_minor": 2
}
